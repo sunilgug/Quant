{
  "nbformat": 4,
  "nbformat_minor": 0,
  "metadata": {
    "colab": {
      "name": "develop_strategy_using_visualization_v5.ipynb",
      "provenance": [],
      "collapsed_sections": [
        "HDyBEhd9N3pa"
      ],
      "include_colab_link": true
    },
    "kernelspec": {
      "name": "python3",
      "display_name": "Python 3"
    }
  },
  "cells": [
    {
      "cell_type": "markdown",
      "metadata": {
        "id": "view-in-github",
        "colab_type": "text"
      },
      "source": [
        "<a href=\"https://colab.research.google.com/github/sunilgug/Quant/blob/master/develop_strategy_using_visualization_v5.ipynb\" target=\"_parent\"><img src=\"https://colab.research.google.com/assets/colab-badge.svg\" alt=\"Open In Colab\"/></a>"
      ]
    },
    {
      "cell_type": "markdown",
      "metadata": {
        "id": "B5okGcwTKc3B"
      },
      "source": [
        "---\n",
        "# ***Develop a new strategy using visualization***\n",
        "\n",
        "---\n",
        "\n",
        "#### ***1. Installation of libraries***\n",
        "#### ***2. Import the libraries and download the data***\n",
        "\n",
        "#### ***3. Technical indicators/variables***\n",
        "  ##### ***a. variables we want to use for developing the strategy***\n",
        "  ##### ***b. variables we need to use for backtesting of the strategy***\n",
        "#### ***4. Download the dataframe in the excel file***\n",
        "#### ***5. Use Tableau to derive parameters of the indicators for your strategy***\n",
        "#### ***6. Analysis of performance of the strategy***\n",
        "\n",
        "\n",
        "\n",
        "\n",
        "\n",
        "\n",
        "\n",
        "\n"
      ]
    },
    {
      "cell_type": "markdown",
      "metadata": {
        "id": "NfcX4ymzLH6S"
      },
      "source": [
        "#### ***installation of library***\n",
        "##### yfinance *for Data Import*\n",
        "##### ta *for technical indicators*\n"
      ]
    },
    {
      "cell_type": "code",
      "metadata": {
        "id": "vR57u4SFXBsZ",
        "colab": {
          "base_uri": "https://localhost:8080/"
        },
        "outputId": "2bf5bccf-9b78-4cc0-eb82-469573400043"
      },
      "source": [
        "!pip install yfinance\n",
        "#!pip install ta"
      ],
      "execution_count": null,
      "outputs": [
        {
          "output_type": "stream",
          "text": [
            "Requirement already satisfied: yfinance in /usr/local/lib/python3.6/dist-packages (0.1.55)\n",
            "Requirement already satisfied: numpy>=1.15 in /usr/local/lib/python3.6/dist-packages (from yfinance) (1.18.5)\n",
            "Requirement already satisfied: pandas>=0.24 in /usr/local/lib/python3.6/dist-packages (from yfinance) (1.1.4)\n",
            "Requirement already satisfied: requests>=2.20 in /usr/local/lib/python3.6/dist-packages (from yfinance) (2.23.0)\n",
            "Requirement already satisfied: lxml>=4.5.1 in /usr/local/lib/python3.6/dist-packages (from yfinance) (4.6.1)\n",
            "Requirement already satisfied: multitasking>=0.0.7 in /usr/local/lib/python3.6/dist-packages (from yfinance) (0.0.9)\n",
            "Requirement already satisfied: pytz>=2017.2 in /usr/local/lib/python3.6/dist-packages (from pandas>=0.24->yfinance) (2018.9)\n",
            "Requirement already satisfied: python-dateutil>=2.7.3 in /usr/local/lib/python3.6/dist-packages (from pandas>=0.24->yfinance) (2.8.1)\n",
            "Requirement already satisfied: urllib3!=1.25.0,!=1.25.1,<1.26,>=1.21.1 in /usr/local/lib/python3.6/dist-packages (from requests>=2.20->yfinance) (1.24.3)\n",
            "Requirement already satisfied: chardet<4,>=3.0.2 in /usr/local/lib/python3.6/dist-packages (from requests>=2.20->yfinance) (3.0.4)\n",
            "Requirement already satisfied: certifi>=2017.4.17 in /usr/local/lib/python3.6/dist-packages (from requests>=2.20->yfinance) (2020.6.20)\n",
            "Requirement already satisfied: idna<3,>=2.5 in /usr/local/lib/python3.6/dist-packages (from requests>=2.20->yfinance) (2.10)\n",
            "Requirement already satisfied: six>=1.5 in /usr/local/lib/python3.6/dist-packages (from python-dateutil>=2.7.3->pandas>=0.24->yfinance) (1.15.0)\n"
          ],
          "name": "stdout"
        }
      ]
    },
    {
      "cell_type": "markdown",
      "metadata": {
        "id": "5H3ezTZ0fABC"
      },
      "source": [
        "#### ***Import the libraries and download the data***\n",
        "##### Import the libraries\n",
        "##### Download the data\n"
      ]
    },
    {
      "cell_type": "code",
      "metadata": {
        "id": "0Gff19gEXU_6"
      },
      "source": [
        "  import pandas as pd\n",
        "  import yfinance as yf\n",
        "  import numpy as np\n",
        "  import datetime\n",
        "  import warnings\n",
        "  \n",
        "  warnings.filterwarnings(action='ignore')\n"
      ],
      "execution_count": null,
      "outputs": []
    },
    {
      "cell_type": "code",
      "metadata": {
        "id": "idwgNANBVJ3l"
      },
      "source": [
        "def fetch_historical_data(script,period,interval):\n",
        "    df=yf.download(script,period=period,interval=interval)\n",
        "    return df"
      ],
      "execution_count": null,
      "outputs": []
    },
    {
      "cell_type": "markdown",
      "metadata": {
        "id": "d16k1phqMOVf"
      },
      "source": [
        "#### ***variables we want to use for developing the strategy***\n",
        "##### vwap=sum(price*volume)/sum(volume)\n",
        "##### sma_short,sma_long\n",
        "##### sma_ratio=sma_short/sma_long\n",
        "##### vol_pct_change\n",
        "##### vwap_price_diff=(close-vwap)*100/close\n",
        "##### RSI_14\n",
        "\n",
        "\n"
      ]
    },
    {
      "cell_type": "code",
      "metadata": {
        "id": "TXn7GP3FwMzR"
      },
      "source": [
        "def RSI(df, base=\"Close\", period=14):\n",
        "    delta = df[base].diff()\n",
        "    up, down = delta.copy(), delta.copy()\n",
        "\n",
        "    up[up < 0] = 0\n",
        "    down[down > 0] = 0\n",
        "    \n",
        "    rUp = up.ewm(com=period - 1,  adjust=False).mean()\n",
        "    rDown = down.ewm(com=period - 1, adjust=False).mean().abs()\n",
        "\n",
        "    df['RSI_' + str(period)] = 100 - 100 / (1 + rUp / rDown)\n",
        "    df['RSI_' + str(period)].fillna(0, inplace=True)\n",
        "\n",
        "    return df"
      ],
      "execution_count": null,
      "outputs": []
    },
    {
      "cell_type": "code",
      "metadata": {
        "id": "-ulzL-CYYXB9"
      },
      "source": [
        "def load_indicators(df,long,short,lookback):\n",
        "  df['sma_short']=df['Close'].rolling(short).mean()\n",
        "  df['sma_long']=df['Close'].rolling(long).mean()\n",
        "  df['sma_ratio']=df['sma_short']/df['sma_long']\n",
        "\n",
        "  df['vol_pct_change_0']=df['Volume'].pct_change()*100\n",
        "\n",
        "  df['volume_vwap']=((df['Close']*df['Volume']).rolling(lookback).sum())/df['Volume'].rolling(lookback).sum()\n",
        "  df['vwap_price_diff']=np.round((df['Close']-df['volume_vwap'])*100/df['Close'],2)\n",
        "  df['weekday']=pd.to_datetime(df.index)\n",
        "  df['weekday']=df['weekday'].dt.dayofweek\n",
        "\n",
        "  df=RSI(df,period=lookback)\n",
        "\n",
        "  #df.dropna(inplace=True)\n",
        "\n",
        "  return df"
      ],
      "execution_count": null,
      "outputs": []
    },
    {
      "cell_type": "markdown",
      "metadata": {
        "id": "HDyBEhd9N3pa"
      },
      "source": [
        "#### ***variables we need to use for backtesting of the strategy***\n",
        "##### pct_change_0=pct_change of the day when position initaited\n",
        "##### pct_change_1,pct_change_2 are the next 1,2 days of pct change respectively\n",
        "\n"
      ]
    },
    {
      "cell_type": "code",
      "metadata": {
        "id": "M3TvJeoFbpyC"
      },
      "source": [
        "def update_pct_change(df):\n",
        "  df['pct_change']=df['Close'].pct_change()*100\n",
        "  df['pct_change_0']=df['pct_change']\n",
        "  df['pct_change_1']=df['pct_change'].shift(-1)\n",
        "  #df.dropna(inplace=True)\n",
        "  return df"
      ],
      "execution_count": null,
      "outputs": []
    },
    {
      "cell_type": "markdown",
      "metadata": {
        "id": "zS9wB_PpO5r4"
      },
      "source": [
        "#### ***Download the dataframe in the excel file***\n",
        "##### Download the dataframe in the excel file \n",
        "##### Use google.colab.files to download file in the local drive"
      ]
    },
    {
      "cell_type": "code",
      "metadata": {
        "id": "RoVcTWPRT51P",
        "colab": {
          "base_uri": "https://localhost:8080/"
        },
        "outputId": "b4408959-4cf8-4c69-a0be-223fa9587bc6"
      },
      "source": [
        "#fetch historical data\n",
        "script,period,interval='^NSEI','59d','15m'\n",
        "df=fetch_historical_data(script,period,interval)"
      ],
      "execution_count": null,
      "outputs": [
        {
          "output_type": "stream",
          "text": [
            "\r[*********************100%***********************]  1 of 1 completed\n"
          ],
          "name": "stdout"
        }
      ]
    },
    {
      "cell_type": "code",
      "metadata": {
        "id": "ixjdyctCT1SL",
        "colab": {
          "base_uri": "https://localhost:8080/",
          "height": 450
        },
        "outputId": "a0495e2c-a7bf-4a92-b24a-3811f815244a"
      },
      "source": [
        "df"
      ],
      "execution_count": null,
      "outputs": [
        {
          "output_type": "execute_result",
          "data": {
            "text/html": [
              "<div>\n",
              "<style scoped>\n",
              "    .dataframe tbody tr th:only-of-type {\n",
              "        vertical-align: middle;\n",
              "    }\n",
              "\n",
              "    .dataframe tbody tr th {\n",
              "        vertical-align: top;\n",
              "    }\n",
              "\n",
              "    .dataframe thead th {\n",
              "        text-align: right;\n",
              "    }\n",
              "</style>\n",
              "<table border=\"1\" class=\"dataframe\">\n",
              "  <thead>\n",
              "    <tr style=\"text-align: right;\">\n",
              "      <th></th>\n",
              "      <th>Open</th>\n",
              "      <th>High</th>\n",
              "      <th>Low</th>\n",
              "      <th>Close</th>\n",
              "      <th>Adj Close</th>\n",
              "      <th>Volume</th>\n",
              "    </tr>\n",
              "    <tr>\n",
              "      <th>Datetime</th>\n",
              "      <th></th>\n",
              "      <th></th>\n",
              "      <th></th>\n",
              "      <th></th>\n",
              "      <th></th>\n",
              "      <th></th>\n",
              "    </tr>\n",
              "  </thead>\n",
              "  <tbody>\n",
              "    <tr>\n",
              "      <th>2020-08-27 09:15:00+05:30</th>\n",
              "      <td>11609.299805</td>\n",
              "      <td>11616.500000</td>\n",
              "      <td>11593.950195</td>\n",
              "      <td>11608.349609</td>\n",
              "      <td>11608.349609</td>\n",
              "      <td>0</td>\n",
              "    </tr>\n",
              "    <tr>\n",
              "      <th>2020-08-27 09:30:00+05:30</th>\n",
              "      <td>11608.599609</td>\n",
              "      <td>11612.000000</td>\n",
              "      <td>11588.599609</td>\n",
              "      <td>11592.599609</td>\n",
              "      <td>11592.599609</td>\n",
              "      <td>0</td>\n",
              "    </tr>\n",
              "    <tr>\n",
              "      <th>2020-08-27 09:45:00+05:30</th>\n",
              "      <td>11591.950195</td>\n",
              "      <td>11601.400391</td>\n",
              "      <td>11587.150391</td>\n",
              "      <td>11592.299805</td>\n",
              "      <td>11592.299805</td>\n",
              "      <td>0</td>\n",
              "    </tr>\n",
              "    <tr>\n",
              "      <th>2020-08-27 10:00:00+05:30</th>\n",
              "      <td>11592.099609</td>\n",
              "      <td>11598.950195</td>\n",
              "      <td>11586.250000</td>\n",
              "      <td>11596.950195</td>\n",
              "      <td>11596.950195</td>\n",
              "      <td>0</td>\n",
              "    </tr>\n",
              "    <tr>\n",
              "      <th>2020-08-27 10:15:00+05:30</th>\n",
              "      <td>11596.700195</td>\n",
              "      <td>11603.750000</td>\n",
              "      <td>11589.349609</td>\n",
              "      <td>11594.799805</td>\n",
              "      <td>11594.799805</td>\n",
              "      <td>0</td>\n",
              "    </tr>\n",
              "    <tr>\n",
              "      <th>...</th>\n",
              "      <td>...</td>\n",
              "      <td>...</td>\n",
              "      <td>...</td>\n",
              "      <td>...</td>\n",
              "      <td>...</td>\n",
              "      <td>...</td>\n",
              "    </tr>\n",
              "    <tr>\n",
              "      <th>2020-11-19 14:15:00+05:30</th>\n",
              "      <td>12861.099609</td>\n",
              "      <td>12862.049805</td>\n",
              "      <td>12761.599609</td>\n",
              "      <td>12761.750000</td>\n",
              "      <td>12761.750000</td>\n",
              "      <td>0</td>\n",
              "    </tr>\n",
              "    <tr>\n",
              "      <th>2020-11-19 14:30:00+05:30</th>\n",
              "      <td>12761.450195</td>\n",
              "      <td>12838.650391</td>\n",
              "      <td>12746.450195</td>\n",
              "      <td>12830.099609</td>\n",
              "      <td>12830.099609</td>\n",
              "      <td>0</td>\n",
              "    </tr>\n",
              "    <tr>\n",
              "      <th>2020-11-19 14:45:00+05:30</th>\n",
              "      <td>12830.650391</td>\n",
              "      <td>12840.500000</td>\n",
              "      <td>12799.250000</td>\n",
              "      <td>12816.799805</td>\n",
              "      <td>12816.799805</td>\n",
              "      <td>0</td>\n",
              "    </tr>\n",
              "    <tr>\n",
              "      <th>2020-11-19 15:00:00+05:30</th>\n",
              "      <td>12817.049805</td>\n",
              "      <td>12821.549805</td>\n",
              "      <td>12762.799805</td>\n",
              "      <td>12771.750000</td>\n",
              "      <td>12771.750000</td>\n",
              "      <td>0</td>\n",
              "    </tr>\n",
              "    <tr>\n",
              "      <th>2020-11-19 15:15:00+05:30</th>\n",
              "      <td>12771.299805</td>\n",
              "      <td>12774.549805</td>\n",
              "      <td>12748.799805</td>\n",
              "      <td>12760.599609</td>\n",
              "      <td>12760.599609</td>\n",
              "      <td>0</td>\n",
              "    </tr>\n",
              "  </tbody>\n",
              "</table>\n",
              "<p>1472 rows × 6 columns</p>\n",
              "</div>"
            ],
            "text/plain": [
              "                                   Open          High  ...     Adj Close  Volume\n",
              "Datetime                                               ...                      \n",
              "2020-08-27 09:15:00+05:30  11609.299805  11616.500000  ...  11608.349609       0\n",
              "2020-08-27 09:30:00+05:30  11608.599609  11612.000000  ...  11592.599609       0\n",
              "2020-08-27 09:45:00+05:30  11591.950195  11601.400391  ...  11592.299805       0\n",
              "2020-08-27 10:00:00+05:30  11592.099609  11598.950195  ...  11596.950195       0\n",
              "2020-08-27 10:15:00+05:30  11596.700195  11603.750000  ...  11594.799805       0\n",
              "...                                 ...           ...  ...           ...     ...\n",
              "2020-11-19 14:15:00+05:30  12861.099609  12862.049805  ...  12761.750000       0\n",
              "2020-11-19 14:30:00+05:30  12761.450195  12838.650391  ...  12830.099609       0\n",
              "2020-11-19 14:45:00+05:30  12830.650391  12840.500000  ...  12816.799805       0\n",
              "2020-11-19 15:00:00+05:30  12817.049805  12821.549805  ...  12771.750000       0\n",
              "2020-11-19 15:15:00+05:30  12771.299805  12774.549805  ...  12760.599609       0\n",
              "\n",
              "[1472 rows x 6 columns]"
            ]
          },
          "metadata": {
            "tags": []
          },
          "execution_count": 46
        }
      ]
    },
    {
      "cell_type": "code",
      "metadata": {
        "id": "hPSvlWdDWbzi",
        "colab": {
          "base_uri": "https://localhost:8080/",
          "height": 640
        },
        "outputId": "0ca39fa6-d8e6-4fc4-c7b3-bd513e89c6ca"
      },
      "source": [
        "#load indicators\n",
        "lookback,short,long=14,5,12\n",
        "df=load_indicators(df,long,short,lookback)\n",
        "df"
      ],
      "execution_count": null,
      "outputs": [
        {
          "output_type": "execute_result",
          "data": {
            "text/html": [
              "<div>\n",
              "<style scoped>\n",
              "    .dataframe tbody tr th:only-of-type {\n",
              "        vertical-align: middle;\n",
              "    }\n",
              "\n",
              "    .dataframe tbody tr th {\n",
              "        vertical-align: top;\n",
              "    }\n",
              "\n",
              "    .dataframe thead th {\n",
              "        text-align: right;\n",
              "    }\n",
              "</style>\n",
              "<table border=\"1\" class=\"dataframe\">\n",
              "  <thead>\n",
              "    <tr style=\"text-align: right;\">\n",
              "      <th></th>\n",
              "      <th>Open</th>\n",
              "      <th>High</th>\n",
              "      <th>Low</th>\n",
              "      <th>Close</th>\n",
              "      <th>Adj Close</th>\n",
              "      <th>Volume</th>\n",
              "      <th>sma_short</th>\n",
              "      <th>sma_long</th>\n",
              "      <th>sma_ratio</th>\n",
              "      <th>vol_pct_change_0</th>\n",
              "      <th>volume_vwap</th>\n",
              "      <th>vwap_price_diff</th>\n",
              "      <th>weekday</th>\n",
              "      <th>RSI_14</th>\n",
              "    </tr>\n",
              "    <tr>\n",
              "      <th>Datetime</th>\n",
              "      <th></th>\n",
              "      <th></th>\n",
              "      <th></th>\n",
              "      <th></th>\n",
              "      <th></th>\n",
              "      <th></th>\n",
              "      <th></th>\n",
              "      <th></th>\n",
              "      <th></th>\n",
              "      <th></th>\n",
              "      <th></th>\n",
              "      <th></th>\n",
              "      <th></th>\n",
              "      <th></th>\n",
              "    </tr>\n",
              "  </thead>\n",
              "  <tbody>\n",
              "    <tr>\n",
              "      <th>2020-08-27 09:15:00+05:30</th>\n",
              "      <td>23511.449219</td>\n",
              "      <td>23643.300781</td>\n",
              "      <td>23497.099609</td>\n",
              "      <td>23637.900391</td>\n",
              "      <td>23637.900391</td>\n",
              "      <td>0</td>\n",
              "      <td>NaN</td>\n",
              "      <td>NaN</td>\n",
              "      <td>NaN</td>\n",
              "      <td>NaN</td>\n",
              "      <td>NaN</td>\n",
              "      <td>NaN</td>\n",
              "      <td>3</td>\n",
              "      <td>0.000000</td>\n",
              "    </tr>\n",
              "    <tr>\n",
              "      <th>2020-08-27 09:30:00+05:30</th>\n",
              "      <td>23639.349609</td>\n",
              "      <td>23649.900391</td>\n",
              "      <td>23571.500000</td>\n",
              "      <td>23603.150391</td>\n",
              "      <td>23603.150391</td>\n",
              "      <td>0</td>\n",
              "      <td>NaN</td>\n",
              "      <td>NaN</td>\n",
              "      <td>NaN</td>\n",
              "      <td>NaN</td>\n",
              "      <td>NaN</td>\n",
              "      <td>NaN</td>\n",
              "      <td>3</td>\n",
              "      <td>0.000000</td>\n",
              "    </tr>\n",
              "    <tr>\n",
              "      <th>2020-08-27 09:45:00+05:30</th>\n",
              "      <td>23602.199219</td>\n",
              "      <td>23628.800781</td>\n",
              "      <td>23582.599609</td>\n",
              "      <td>23587.900391</td>\n",
              "      <td>23587.900391</td>\n",
              "      <td>0</td>\n",
              "      <td>NaN</td>\n",
              "      <td>NaN</td>\n",
              "      <td>NaN</td>\n",
              "      <td>NaN</td>\n",
              "      <td>NaN</td>\n",
              "      <td>NaN</td>\n",
              "      <td>3</td>\n",
              "      <td>0.000000</td>\n",
              "    </tr>\n",
              "    <tr>\n",
              "      <th>2020-08-27 10:00:00+05:30</th>\n",
              "      <td>23585.949219</td>\n",
              "      <td>23618.199219</td>\n",
              "      <td>23569.550781</td>\n",
              "      <td>23593.449219</td>\n",
              "      <td>23593.449219</td>\n",
              "      <td>0</td>\n",
              "      <td>NaN</td>\n",
              "      <td>NaN</td>\n",
              "      <td>NaN</td>\n",
              "      <td>NaN</td>\n",
              "      <td>NaN</td>\n",
              "      <td>NaN</td>\n",
              "      <td>3</td>\n",
              "      <td>1.263418</td>\n",
              "    </tr>\n",
              "    <tr>\n",
              "      <th>2020-08-27 10:15:00+05:30</th>\n",
              "      <td>23592.599609</td>\n",
              "      <td>23625.050781</td>\n",
              "      <td>23581.300781</td>\n",
              "      <td>23605.400391</td>\n",
              "      <td>23605.400391</td>\n",
              "      <td>0</td>\n",
              "      <td>23605.560156</td>\n",
              "      <td>NaN</td>\n",
              "      <td>NaN</td>\n",
              "      <td>NaN</td>\n",
              "      <td>NaN</td>\n",
              "      <td>NaN</td>\n",
              "      <td>3</td>\n",
              "      <td>4.074511</td>\n",
              "    </tr>\n",
              "    <tr>\n",
              "      <th>...</th>\n",
              "      <td>...</td>\n",
              "      <td>...</td>\n",
              "      <td>...</td>\n",
              "      <td>...</td>\n",
              "      <td>...</td>\n",
              "      <td>...</td>\n",
              "      <td>...</td>\n",
              "      <td>...</td>\n",
              "      <td>...</td>\n",
              "      <td>...</td>\n",
              "      <td>...</td>\n",
              "      <td>...</td>\n",
              "      <td>...</td>\n",
              "      <td>...</td>\n",
              "    </tr>\n",
              "    <tr>\n",
              "      <th>2020-11-19 14:15:00+05:30</th>\n",
              "      <td>29109.449219</td>\n",
              "      <td>29111.349609</td>\n",
              "      <td>28861.449219</td>\n",
              "      <td>28863.849609</td>\n",
              "      <td>28863.849609</td>\n",
              "      <td>0</td>\n",
              "      <td>29161.059766</td>\n",
              "      <td>29343.845866</td>\n",
              "      <td>0.993771</td>\n",
              "      <td>NaN</td>\n",
              "      <td>NaN</td>\n",
              "      <td>NaN</td>\n",
              "      <td>3</td>\n",
              "      <td>23.448736</td>\n",
              "    </tr>\n",
              "    <tr>\n",
              "      <th>2020-11-19 14:30:00+05:30</th>\n",
              "      <td>28865.150391</td>\n",
              "      <td>29120.199219</td>\n",
              "      <td>28831.449219</td>\n",
              "      <td>29102.000000</td>\n",
              "      <td>29102.000000</td>\n",
              "      <td>0</td>\n",
              "      <td>29116.219922</td>\n",
              "      <td>29313.308431</td>\n",
              "      <td>0.993276</td>\n",
              "      <td>NaN</td>\n",
              "      <td>NaN</td>\n",
              "      <td>NaN</td>\n",
              "      <td>3</td>\n",
              "      <td>38.622103</td>\n",
              "    </tr>\n",
              "    <tr>\n",
              "      <th>2020-11-19 14:45:00+05:30</th>\n",
              "      <td>29102.199219</td>\n",
              "      <td>29150.849609</td>\n",
              "      <td>28984.550781</td>\n",
              "      <td>29036.050781</td>\n",
              "      <td>29036.050781</td>\n",
              "      <td>0</td>\n",
              "      <td>29062.600000</td>\n",
              "      <td>29278.575195</td>\n",
              "      <td>0.992623</td>\n",
              "      <td>NaN</td>\n",
              "      <td>NaN</td>\n",
              "      <td>NaN</td>\n",
              "      <td>3</td>\n",
              "      <td>36.466510</td>\n",
              "    </tr>\n",
              "    <tr>\n",
              "      <th>2020-11-19 15:00:00+05:30</th>\n",
              "      <td>29035.650391</td>\n",
              "      <td>29055.699219</td>\n",
              "      <td>28865.349609</td>\n",
              "      <td>28915.099609</td>\n",
              "      <td>28915.099609</td>\n",
              "      <td>0</td>\n",
              "      <td>29005.689844</td>\n",
              "      <td>29233.362630</td>\n",
              "      <td>0.992212</td>\n",
              "      <td>NaN</td>\n",
              "      <td>NaN</td>\n",
              "      <td>NaN</td>\n",
              "      <td>3</td>\n",
              "      <td>32.845784</td>\n",
              "    </tr>\n",
              "    <tr>\n",
              "      <th>2020-11-19 15:15:00+05:30</th>\n",
              "      <td>28912.599609</td>\n",
              "      <td>28925.449219</td>\n",
              "      <td>28826.250000</td>\n",
              "      <td>28837.650391</td>\n",
              "      <td>28837.650391</td>\n",
              "      <td>0</td>\n",
              "      <td>28950.930078</td>\n",
              "      <td>29172.475098</td>\n",
              "      <td>0.992406</td>\n",
              "      <td>NaN</td>\n",
              "      <td>NaN</td>\n",
              "      <td>NaN</td>\n",
              "      <td>3</td>\n",
              "      <td>30.740984</td>\n",
              "    </tr>\n",
              "  </tbody>\n",
              "</table>\n",
              "<p>1472 rows × 14 columns</p>\n",
              "</div>"
            ],
            "text/plain": [
              "                                   Open          High  ...  weekday     RSI_14\n",
              "Datetime                                               ...                    \n",
              "2020-08-27 09:15:00+05:30  23511.449219  23643.300781  ...        3   0.000000\n",
              "2020-08-27 09:30:00+05:30  23639.349609  23649.900391  ...        3   0.000000\n",
              "2020-08-27 09:45:00+05:30  23602.199219  23628.800781  ...        3   0.000000\n",
              "2020-08-27 10:00:00+05:30  23585.949219  23618.199219  ...        3   1.263418\n",
              "2020-08-27 10:15:00+05:30  23592.599609  23625.050781  ...        3   4.074511\n",
              "...                                 ...           ...  ...      ...        ...\n",
              "2020-11-19 14:15:00+05:30  29109.449219  29111.349609  ...        3  23.448736\n",
              "2020-11-19 14:30:00+05:30  28865.150391  29120.199219  ...        3  38.622103\n",
              "2020-11-19 14:45:00+05:30  29102.199219  29150.849609  ...        3  36.466510\n",
              "2020-11-19 15:00:00+05:30  29035.650391  29055.699219  ...        3  32.845784\n",
              "2020-11-19 15:15:00+05:30  28912.599609  28925.449219  ...        3  30.740984\n",
              "\n",
              "[1472 rows x 14 columns]"
            ]
          },
          "metadata": {
            "tags": []
          },
          "execution_count": 39
        }
      ]
    },
    {
      "cell_type": "code",
      "metadata": {
        "id": "eh9dotXMWcGF",
        "colab": {
          "base_uri": "https://localhost:8080/",
          "height": 640
        },
        "outputId": "57022f48-dbf6-49fc-b641-37d7907ee5c1"
      },
      "source": [
        "#update pct change of curr and next day\n",
        "df=update_pct_change(df)\n",
        "df"
      ],
      "execution_count": null,
      "outputs": [
        {
          "output_type": "execute_result",
          "data": {
            "text/html": [
              "<div>\n",
              "<style scoped>\n",
              "    .dataframe tbody tr th:only-of-type {\n",
              "        vertical-align: middle;\n",
              "    }\n",
              "\n",
              "    .dataframe tbody tr th {\n",
              "        vertical-align: top;\n",
              "    }\n",
              "\n",
              "    .dataframe thead th {\n",
              "        text-align: right;\n",
              "    }\n",
              "</style>\n",
              "<table border=\"1\" class=\"dataframe\">\n",
              "  <thead>\n",
              "    <tr style=\"text-align: right;\">\n",
              "      <th></th>\n",
              "      <th>Open</th>\n",
              "      <th>High</th>\n",
              "      <th>Low</th>\n",
              "      <th>Close</th>\n",
              "      <th>Adj Close</th>\n",
              "      <th>Volume</th>\n",
              "      <th>sma_short</th>\n",
              "      <th>sma_long</th>\n",
              "      <th>sma_ratio</th>\n",
              "      <th>vol_pct_change_0</th>\n",
              "      <th>volume_vwap</th>\n",
              "      <th>vwap_price_diff</th>\n",
              "      <th>weekday</th>\n",
              "      <th>RSI_14</th>\n",
              "      <th>pct_change</th>\n",
              "      <th>pct_change_0</th>\n",
              "      <th>pct_change_1</th>\n",
              "    </tr>\n",
              "    <tr>\n",
              "      <th>Datetime</th>\n",
              "      <th></th>\n",
              "      <th></th>\n",
              "      <th></th>\n",
              "      <th></th>\n",
              "      <th></th>\n",
              "      <th></th>\n",
              "      <th></th>\n",
              "      <th></th>\n",
              "      <th></th>\n",
              "      <th></th>\n",
              "      <th></th>\n",
              "      <th></th>\n",
              "      <th></th>\n",
              "      <th></th>\n",
              "      <th></th>\n",
              "      <th></th>\n",
              "      <th></th>\n",
              "    </tr>\n",
              "  </thead>\n",
              "  <tbody>\n",
              "    <tr>\n",
              "      <th>2020-08-27 09:15:00+05:30</th>\n",
              "      <td>23511.449219</td>\n",
              "      <td>23643.300781</td>\n",
              "      <td>23497.099609</td>\n",
              "      <td>23637.900391</td>\n",
              "      <td>23637.900391</td>\n",
              "      <td>0</td>\n",
              "      <td>NaN</td>\n",
              "      <td>NaN</td>\n",
              "      <td>NaN</td>\n",
              "      <td>NaN</td>\n",
              "      <td>NaN</td>\n",
              "      <td>NaN</td>\n",
              "      <td>3</td>\n",
              "      <td>0.000000</td>\n",
              "      <td>NaN</td>\n",
              "      <td>NaN</td>\n",
              "      <td>-0.147010</td>\n",
              "    </tr>\n",
              "    <tr>\n",
              "      <th>2020-08-27 09:30:00+05:30</th>\n",
              "      <td>23639.349609</td>\n",
              "      <td>23649.900391</td>\n",
              "      <td>23571.500000</td>\n",
              "      <td>23603.150391</td>\n",
              "      <td>23603.150391</td>\n",
              "      <td>0</td>\n",
              "      <td>NaN</td>\n",
              "      <td>NaN</td>\n",
              "      <td>NaN</td>\n",
              "      <td>NaN</td>\n",
              "      <td>NaN</td>\n",
              "      <td>NaN</td>\n",
              "      <td>3</td>\n",
              "      <td>0.000000</td>\n",
              "      <td>-0.147010</td>\n",
              "      <td>-0.147010</td>\n",
              "      <td>-0.064610</td>\n",
              "    </tr>\n",
              "    <tr>\n",
              "      <th>2020-08-27 09:45:00+05:30</th>\n",
              "      <td>23602.199219</td>\n",
              "      <td>23628.800781</td>\n",
              "      <td>23582.599609</td>\n",
              "      <td>23587.900391</td>\n",
              "      <td>23587.900391</td>\n",
              "      <td>0</td>\n",
              "      <td>NaN</td>\n",
              "      <td>NaN</td>\n",
              "      <td>NaN</td>\n",
              "      <td>NaN</td>\n",
              "      <td>NaN</td>\n",
              "      <td>NaN</td>\n",
              "      <td>3</td>\n",
              "      <td>0.000000</td>\n",
              "      <td>-0.064610</td>\n",
              "      <td>-0.064610</td>\n",
              "      <td>0.023524</td>\n",
              "    </tr>\n",
              "    <tr>\n",
              "      <th>2020-08-27 10:00:00+05:30</th>\n",
              "      <td>23585.949219</td>\n",
              "      <td>23618.199219</td>\n",
              "      <td>23569.550781</td>\n",
              "      <td>23593.449219</td>\n",
              "      <td>23593.449219</td>\n",
              "      <td>0</td>\n",
              "      <td>NaN</td>\n",
              "      <td>NaN</td>\n",
              "      <td>NaN</td>\n",
              "      <td>NaN</td>\n",
              "      <td>NaN</td>\n",
              "      <td>NaN</td>\n",
              "      <td>3</td>\n",
              "      <td>1.263418</td>\n",
              "      <td>0.023524</td>\n",
              "      <td>0.023524</td>\n",
              "      <td>0.050655</td>\n",
              "    </tr>\n",
              "    <tr>\n",
              "      <th>2020-08-27 10:15:00+05:30</th>\n",
              "      <td>23592.599609</td>\n",
              "      <td>23625.050781</td>\n",
              "      <td>23581.300781</td>\n",
              "      <td>23605.400391</td>\n",
              "      <td>23605.400391</td>\n",
              "      <td>0</td>\n",
              "      <td>23605.560156</td>\n",
              "      <td>NaN</td>\n",
              "      <td>NaN</td>\n",
              "      <td>NaN</td>\n",
              "      <td>NaN</td>\n",
              "      <td>NaN</td>\n",
              "      <td>3</td>\n",
              "      <td>4.074511</td>\n",
              "      <td>0.050655</td>\n",
              "      <td>0.050655</td>\n",
              "      <td>-0.078165</td>\n",
              "    </tr>\n",
              "    <tr>\n",
              "      <th>...</th>\n",
              "      <td>...</td>\n",
              "      <td>...</td>\n",
              "      <td>...</td>\n",
              "      <td>...</td>\n",
              "      <td>...</td>\n",
              "      <td>...</td>\n",
              "      <td>...</td>\n",
              "      <td>...</td>\n",
              "      <td>...</td>\n",
              "      <td>...</td>\n",
              "      <td>...</td>\n",
              "      <td>...</td>\n",
              "      <td>...</td>\n",
              "      <td>...</td>\n",
              "      <td>...</td>\n",
              "      <td>...</td>\n",
              "      <td>...</td>\n",
              "    </tr>\n",
              "    <tr>\n",
              "      <th>2020-11-19 14:15:00+05:30</th>\n",
              "      <td>29109.449219</td>\n",
              "      <td>29111.349609</td>\n",
              "      <td>28861.449219</td>\n",
              "      <td>28863.849609</td>\n",
              "      <td>28863.849609</td>\n",
              "      <td>0</td>\n",
              "      <td>29161.059766</td>\n",
              "      <td>29343.845866</td>\n",
              "      <td>0.993771</td>\n",
              "      <td>NaN</td>\n",
              "      <td>NaN</td>\n",
              "      <td>NaN</td>\n",
              "      <td>3</td>\n",
              "      <td>23.448736</td>\n",
              "      <td>-0.850523</td>\n",
              "      <td>-0.850523</td>\n",
              "      <td>0.825082</td>\n",
              "    </tr>\n",
              "    <tr>\n",
              "      <th>2020-11-19 14:30:00+05:30</th>\n",
              "      <td>28865.150391</td>\n",
              "      <td>29120.199219</td>\n",
              "      <td>28831.449219</td>\n",
              "      <td>29102.000000</td>\n",
              "      <td>29102.000000</td>\n",
              "      <td>0</td>\n",
              "      <td>29116.219922</td>\n",
              "      <td>29313.308431</td>\n",
              "      <td>0.993276</td>\n",
              "      <td>NaN</td>\n",
              "      <td>NaN</td>\n",
              "      <td>NaN</td>\n",
              "      <td>3</td>\n",
              "      <td>38.622103</td>\n",
              "      <td>0.825082</td>\n",
              "      <td>0.825082</td>\n",
              "      <td>-0.226614</td>\n",
              "    </tr>\n",
              "    <tr>\n",
              "      <th>2020-11-19 14:45:00+05:30</th>\n",
              "      <td>29102.199219</td>\n",
              "      <td>29150.849609</td>\n",
              "      <td>28984.550781</td>\n",
              "      <td>29036.050781</td>\n",
              "      <td>29036.050781</td>\n",
              "      <td>0</td>\n",
              "      <td>29062.600000</td>\n",
              "      <td>29278.575195</td>\n",
              "      <td>0.992623</td>\n",
              "      <td>NaN</td>\n",
              "      <td>NaN</td>\n",
              "      <td>NaN</td>\n",
              "      <td>3</td>\n",
              "      <td>36.466510</td>\n",
              "      <td>-0.226614</td>\n",
              "      <td>-0.226614</td>\n",
              "      <td>-0.416555</td>\n",
              "    </tr>\n",
              "    <tr>\n",
              "      <th>2020-11-19 15:00:00+05:30</th>\n",
              "      <td>29035.650391</td>\n",
              "      <td>29055.699219</td>\n",
              "      <td>28865.349609</td>\n",
              "      <td>28915.099609</td>\n",
              "      <td>28915.099609</td>\n",
              "      <td>0</td>\n",
              "      <td>29005.689844</td>\n",
              "      <td>29233.362630</td>\n",
              "      <td>0.992212</td>\n",
              "      <td>NaN</td>\n",
              "      <td>NaN</td>\n",
              "      <td>NaN</td>\n",
              "      <td>3</td>\n",
              "      <td>32.845784</td>\n",
              "      <td>-0.416555</td>\n",
              "      <td>-0.416555</td>\n",
              "      <td>-0.267850</td>\n",
              "    </tr>\n",
              "    <tr>\n",
              "      <th>2020-11-19 15:15:00+05:30</th>\n",
              "      <td>28912.599609</td>\n",
              "      <td>28925.449219</td>\n",
              "      <td>28826.250000</td>\n",
              "      <td>28837.650391</td>\n",
              "      <td>28837.650391</td>\n",
              "      <td>0</td>\n",
              "      <td>28950.930078</td>\n",
              "      <td>29172.475098</td>\n",
              "      <td>0.992406</td>\n",
              "      <td>NaN</td>\n",
              "      <td>NaN</td>\n",
              "      <td>NaN</td>\n",
              "      <td>3</td>\n",
              "      <td>30.740984</td>\n",
              "      <td>-0.267850</td>\n",
              "      <td>-0.267850</td>\n",
              "      <td>NaN</td>\n",
              "    </tr>\n",
              "  </tbody>\n",
              "</table>\n",
              "<p>1472 rows × 17 columns</p>\n",
              "</div>"
            ],
            "text/plain": [
              "                                   Open  ...  pct_change_1\n",
              "Datetime                                 ...              \n",
              "2020-08-27 09:15:00+05:30  23511.449219  ...     -0.147010\n",
              "2020-08-27 09:30:00+05:30  23639.349609  ...     -0.064610\n",
              "2020-08-27 09:45:00+05:30  23602.199219  ...      0.023524\n",
              "2020-08-27 10:00:00+05:30  23585.949219  ...      0.050655\n",
              "2020-08-27 10:15:00+05:30  23592.599609  ...     -0.078165\n",
              "...                                 ...  ...           ...\n",
              "2020-11-19 14:15:00+05:30  29109.449219  ...      0.825082\n",
              "2020-11-19 14:30:00+05:30  28865.150391  ...     -0.226614\n",
              "2020-11-19 14:45:00+05:30  29102.199219  ...     -0.416555\n",
              "2020-11-19 15:00:00+05:30  29035.650391  ...     -0.267850\n",
              "2020-11-19 15:15:00+05:30  28912.599609  ...           NaN\n",
              "\n",
              "[1472 rows x 17 columns]"
            ]
          },
          "metadata": {
            "tags": []
          },
          "execution_count": 40
        }
      ]
    },
    {
      "cell_type": "code",
      "metadata": {
        "id": "xM_eEi3LcDSV"
      },
      "source": [
        "df2=df.copy()\n",
        "#df2.to_excel('develop_strat.xlsx')\n",
        "df2.to_csv('develop_strat.csv')"
      ],
      "execution_count": null,
      "outputs": []
    },
    {
      "cell_type": "code",
      "metadata": {
        "id": "953HJA3mcobc",
        "colab": {
          "base_uri": "https://localhost:8080/",
          "height": 17
        },
        "outputId": "9d9992fc-f5b7-442d-de7a-9edc89df2b43"
      },
      "source": [
        "from google.colab import files\n",
        "files.download('develop_strat.csv')"
      ],
      "execution_count": null,
      "outputs": [
        {
          "output_type": "display_data",
          "data": {
            "application/javascript": [
              "\n",
              "    async function download(id, filename, size) {\n",
              "      if (!google.colab.kernel.accessAllowed) {\n",
              "        return;\n",
              "      }\n",
              "      const div = document.createElement('div');\n",
              "      const label = document.createElement('label');\n",
              "      label.textContent = `Downloading \"${filename}\": `;\n",
              "      div.appendChild(label);\n",
              "      const progress = document.createElement('progress');\n",
              "      progress.max = size;\n",
              "      div.appendChild(progress);\n",
              "      document.body.appendChild(div);\n",
              "\n",
              "      const buffers = [];\n",
              "      let downloaded = 0;\n",
              "\n",
              "      const channel = await google.colab.kernel.comms.open(id);\n",
              "      // Send a message to notify the kernel that we're ready.\n",
              "      channel.send({})\n",
              "\n",
              "      for await (const message of channel.messages) {\n",
              "        // Send a message to notify the kernel that we're ready.\n",
              "        channel.send({})\n",
              "        if (message.buffers) {\n",
              "          for (const buffer of message.buffers) {\n",
              "            buffers.push(buffer);\n",
              "            downloaded += buffer.byteLength;\n",
              "            progress.value = downloaded;\n",
              "          }\n",
              "        }\n",
              "      }\n",
              "      const blob = new Blob(buffers, {type: 'application/binary'});\n",
              "      const a = document.createElement('a');\n",
              "      a.href = window.URL.createObjectURL(blob);\n",
              "      a.download = filename;\n",
              "      div.appendChild(a);\n",
              "      a.click();\n",
              "      div.remove();\n",
              "    }\n",
              "  "
            ],
            "text/plain": [
              "<IPython.core.display.Javascript object>"
            ]
          },
          "metadata": {
            "tags": []
          }
        },
        {
          "output_type": "display_data",
          "data": {
            "application/javascript": [
              "download(\"download_b834df38-d676-43da-b625-d4e0beea04ca\", \"develop_strat.csv\", 151274)"
            ],
            "text/plain": [
              "<IPython.core.display.Javascript object>"
            ]
          },
          "metadata": {
            "tags": []
          }
        }
      ]
    },
    {
      "cell_type": "markdown",
      "metadata": {
        "id": "Gwcy7wu4PmYd"
      },
      "source": [
        "#### ***Use Tableau to derive parameters of the indicators for your strategy***\n",
        "##### Upload dataframe file in Tableau\n",
        "##### Do the reverse engineering to derive the parameters\n",
        "##### Use derived parameters in the code and verify\n",
        "\n"
      ]
    },
    {
      "cell_type": "markdown",
      "metadata": {
        "id": "aLJbfWLf7JKw"
      },
      "source": [
        "**Return Calculations** "
      ]
    },
    {
      "cell_type": "code",
      "metadata": {
        "id": "3ZIeR-r-fLQi"
      },
      "source": [
        "# Signal and position generation\n",
        "df2['signal_long']=(df2['sma_ratio']>0.9999)&(df2['sma_ratio']<1.0604)&(df2['RSI_14']>52.9)&(df2['RSI_14']<85)&(df2['Close']>df2['Open'])&(df2['weekday']!=2)\n",
        "df2['position']=df2['signal_long'].shift(1)"
      ],
      "execution_count": null,
      "outputs": []
    },
    {
      "cell_type": "code",
      "metadata": {
        "id": "T6uW5P14xKWP"
      },
      "source": [
        "# Calculating returns and equity for the buy and hold case\n",
        "df2['bnh_returns']= df2['Close'].pct_change()\n",
        "df2['bnh_equity'] = np.cumprod(1+df2['bnh_returns'])"
      ],
      "execution_count": null,
      "outputs": []
    },
    {
      "cell_type": "code",
      "metadata": {
        "id": "vZ-LiNalxWUG"
      },
      "source": [
        "# Calculating returns and equity for the strategy\n",
        "df2['strategy_returns'] = df2['bnh_returns'] * df2['position']\n",
        "df2['strategy_equity'] = np.cumprod(1+df2['strategy_returns'])"
      ],
      "execution_count": null,
      "outputs": []
    },
    {
      "cell_type": "code",
      "metadata": {
        "id": "l3c2SH0OAVRo"
      },
      "source": [
        "#df2['strategy_equity']\n",
        "#df2.to_excel('develop_strat.xlsx')"
      ],
      "execution_count": null,
      "outputs": []
    },
    {
      "cell_type": "markdown",
      "metadata": {
        "id": "u878u3qtTorE"
      },
      "source": [
        "#### ***Analysis of performance of the strategy***\n",
        "##### Graphical representation of the strategy returns\n",
        "##### Comparative Analysis of strategy returns vs buy/hold of the instrument\n",
        "\n"
      ]
    },
    {
      "cell_type": "code",
      "metadata": {
        "id": "_woYqeG65CRp",
        "colab": {
          "base_uri": "https://localhost:8080/",
          "height": 300
        },
        "outputId": "b26ee158-c652-4222-ef30-0e5bc70ed84b"
      },
      "source": [
        "#total bnh return in %\n",
        "print('Total Buy and Hold return:',np.round((df2['bnh_equity'][-1] - 1)*100,2),'%')"
      ],
      "execution_count": null,
      "outputs": [
        {
          "output_type": "error",
          "ename": "IndexError",
          "evalue": "ignored",
          "traceback": [
            "\u001b[0;31m---------------------------------------------------------------------------\u001b[0m",
            "\u001b[0;31mIndexError\u001b[0m                                Traceback (most recent call last)",
            "\u001b[0;32m<ipython-input-17-babb79f2e5ac>\u001b[0m in \u001b[0;36m<module>\u001b[0;34m()\u001b[0m\n\u001b[1;32m      1\u001b[0m \u001b[0;31m#total bnh return in %\u001b[0m\u001b[0;34m\u001b[0m\u001b[0;34m\u001b[0m\u001b[0;34m\u001b[0m\u001b[0m\n\u001b[0;32m----> 2\u001b[0;31m \u001b[0mprint\u001b[0m\u001b[0;34m(\u001b[0m\u001b[0;34m'Total Buy and Hold return:'\u001b[0m\u001b[0;34m,\u001b[0m\u001b[0mnp\u001b[0m\u001b[0;34m.\u001b[0m\u001b[0mround\u001b[0m\u001b[0;34m(\u001b[0m\u001b[0;34m(\u001b[0m\u001b[0mdf2\u001b[0m\u001b[0;34m[\u001b[0m\u001b[0;34m'bnh_equity'\u001b[0m\u001b[0;34m]\u001b[0m\u001b[0;34m[\u001b[0m\u001b[0;34m-\u001b[0m\u001b[0;36m1\u001b[0m\u001b[0;34m]\u001b[0m \u001b[0;34m-\u001b[0m \u001b[0;36m1\u001b[0m\u001b[0;34m)\u001b[0m\u001b[0;34m*\u001b[0m\u001b[0;36m100\u001b[0m\u001b[0;34m,\u001b[0m\u001b[0;36m2\u001b[0m\u001b[0;34m)\u001b[0m\u001b[0;34m,\u001b[0m\u001b[0;34m'%'\u001b[0m\u001b[0;34m)\u001b[0m\u001b[0;34m\u001b[0m\u001b[0;34m\u001b[0m\u001b[0m\n\u001b[0m",
            "\u001b[0;32m/usr/local/lib/python3.6/dist-packages/pandas/core/series.py\u001b[0m in \u001b[0;36m__getitem__\u001b[0;34m(self, key)\u001b[0m\n\u001b[1;32m    877\u001b[0m \u001b[0;34m\u001b[0m\u001b[0m\n\u001b[1;32m    878\u001b[0m         \u001b[0;32mif\u001b[0m \u001b[0mis_integer\u001b[0m\u001b[0;34m(\u001b[0m\u001b[0mkey\u001b[0m\u001b[0;34m)\u001b[0m \u001b[0;32mand\u001b[0m \u001b[0mself\u001b[0m\u001b[0;34m.\u001b[0m\u001b[0mindex\u001b[0m\u001b[0;34m.\u001b[0m\u001b[0m_should_fallback_to_positional\u001b[0m\u001b[0;34m(\u001b[0m\u001b[0;34m)\u001b[0m\u001b[0;34m:\u001b[0m\u001b[0;34m\u001b[0m\u001b[0;34m\u001b[0m\u001b[0m\n\u001b[0;32m--> 879\u001b[0;31m             \u001b[0;32mreturn\u001b[0m \u001b[0mself\u001b[0m\u001b[0;34m.\u001b[0m\u001b[0m_values\u001b[0m\u001b[0;34m[\u001b[0m\u001b[0mkey\u001b[0m\u001b[0;34m]\u001b[0m\u001b[0;34m\u001b[0m\u001b[0;34m\u001b[0m\u001b[0m\n\u001b[0m\u001b[1;32m    880\u001b[0m \u001b[0;34m\u001b[0m\u001b[0m\n\u001b[1;32m    881\u001b[0m         \u001b[0;32melif\u001b[0m \u001b[0mkey_is_scalar\u001b[0m\u001b[0;34m:\u001b[0m\u001b[0;34m\u001b[0m\u001b[0;34m\u001b[0m\u001b[0m\n",
            "\u001b[0;31mIndexError\u001b[0m: index -1 is out of bounds for axis 0 with size 0"
          ]
        }
      ]
    },
    {
      "cell_type": "code",
      "metadata": {
        "id": "G1vkcvLHyNOk"
      },
      "source": [
        "#total strategy return in %\n",
        "print('Total strategy return:',np.round((df2['strategy_equity'][-1] - 1)*100,2),'%')"
      ],
      "execution_count": null,
      "outputs": []
    },
    {
      "cell_type": "code",
      "metadata": {
        "id": "fSx6jWyP5drM"
      },
      "source": [
        "df2[['bnh_equity','strategy_equity']].plot(figsize=(15,10),grid=True)"
      ],
      "execution_count": null,
      "outputs": []
    },
    {
      "cell_type": "code",
      "metadata": {
        "id": "Lr8iS03U6SIs"
      },
      "source": [
        "'''\n",
        "# Validating using normal total change formula\n",
        "((df2['Close'][-1] - df2['Close'][0])/df2['Close'][0])*100\n",
        "'''"
      ],
      "execution_count": null,
      "outputs": []
    }
  ]
}